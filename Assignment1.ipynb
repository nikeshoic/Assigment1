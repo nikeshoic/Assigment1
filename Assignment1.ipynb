{
 "cells": [
  {
   "cell_type": "markdown",
   "id": "36d8c166-6631-4357-a1a5-8153ca7cb7bf",
   "metadata": {},
   "source": [
    "### Question 4"
   ]
  },
  {
   "cell_type": "code",
   "execution_count": 4,
   "id": "c5b936b1-176e-4f95-88ef-28528b2aaa61",
   "metadata": {},
   "outputs": [
    {
     "data": {
      "text/plain": [
       "['Life is beautiful', 'Shawshank Redemption', 'Dead Poet Society']"
      ]
     },
     "execution_count": 4,
     "metadata": {},
     "output_type": "execute_result"
    }
   ],
   "source": [
    "movies = ['Life is beautiful','Shawshank Redemption','Dead Poet Society']\n",
    "movies"
   ]
  },
  {
   "cell_type": "code",
   "execution_count": 5,
   "id": "32733f2a-635f-4d24-a667-f4fabffb0370",
   "metadata": {},
   "outputs": [
    {
     "data": {
      "text/plain": [
       "['Life is beautiful',\n",
       " 'Shawshank Redemption',\n",
       " 'Dead Poet Society',\n",
       " 'Forest Gump']"
      ]
     },
     "execution_count": 5,
     "metadata": {},
     "output_type": "execute_result"
    }
   ],
   "source": [
    "movies.append('Forest Gump')\n",
    "movies"
   ]
  },
  {
   "cell_type": "markdown",
   "id": "a2bd7a1f-c402-4fe5-8cfb-498e450cb6f5",
   "metadata": {},
   "source": [
    "### Question 5"
   ]
  },
  {
   "cell_type": "code",
   "execution_count": 6,
   "id": "174d727f-f005-48de-83e6-0bbfb88aeec8",
   "metadata": {},
   "outputs": [],
   "source": [
    "nums = [1,2,3,4,5,6,7,8,9,10]"
   ]
  },
  {
   "cell_type": "code",
   "execution_count": 7,
   "id": "27408181-0dc9-49e9-9166-113f9f78bd4b",
   "metadata": {},
   "outputs": [
    {
     "data": {
      "text/plain": [
       "55"
      ]
     },
     "execution_count": 7,
     "metadata": {},
     "output_type": "execute_result"
    }
   ],
   "source": [
    "sum = 0 \n",
    "for value in nums:\n",
    "    sum += value\n",
    "sum"
   ]
  },
  {
   "cell_type": "markdown",
   "id": "0aea4bcc-9767-4e86-a4ec-265c30829791",
   "metadata": {},
   "source": [
    "### Question 6"
   ]
  },
  {
   "cell_type": "code",
   "execution_count": 8,
   "id": "f71b91c3-256a-4f8e-a08a-bd2fcfd26aad",
   "metadata": {},
   "outputs": [
    {
     "data": {
      "text/plain": [
       "['x', 'y', 'z', 1, 2, 3, 10.1, 20.2, 30.3]"
      ]
     },
     "execution_count": 8,
     "metadata": {},
     "output_type": "execute_result"
    }
   ],
   "source": [
    "mix_list = ['x','y','z',1,2,3,10.1,20.2,30.3]\n",
    "mix_list"
   ]
  },
  {
   "cell_type": "code",
   "execution_count": 9,
   "id": "df110564-b403-49a3-b84e-73b40c208e0b",
   "metadata": {},
   "outputs": [
    {
     "data": {
      "text/plain": [
       "['y', 'z', 1, 2, 3, 10.1, 20.2, 30.3]"
      ]
     },
     "execution_count": 9,
     "metadata": {},
     "output_type": "execute_result"
    }
   ],
   "source": [
    "mix_list.pop(0)\n",
    "mix_list"
   ]
  },
  {
   "cell_type": "markdown",
   "id": "0629a55f-68b0-4179-a305-18771262a953",
   "metadata": {},
   "source": [
    "### Question 7"
   ]
  },
  {
   "cell_type": "code",
   "execution_count": 10,
   "id": "19d38d31-769d-4a75-a747-ba66a3c5e5bb",
   "metadata": {},
   "outputs": [
    {
     "data": {
      "text/plain": [
       "('Sunday', 'Monday', 'Tuesday', 'Wednesday', 'Thursday', 'Friday', 'Saturday')"
      ]
     },
     "execution_count": 10,
     "metadata": {},
     "output_type": "execute_result"
    }
   ],
   "source": [
    "days = ('Sunday','Monday','Tuesday','Wednesday','Thursday','Friday','Saturday')\n",
    "days"
   ]
  },
  {
   "cell_type": "code",
   "execution_count": 11,
   "id": "84a09e6c-fd13-4a26-9717-965f08a116b9",
   "metadata": {},
   "outputs": [
    {
     "data": {
      "text/plain": [
       "'Tuesday'"
      ]
     },
     "execution_count": 11,
     "metadata": {},
     "output_type": "execute_result"
    }
   ],
   "source": [
    "days[2]"
   ]
  },
  {
   "cell_type": "markdown",
   "id": "a059f0cb-b93f-4d8c-b547-a9c1a5be270f",
   "metadata": {},
   "source": [
    "### Question 8"
   ]
  },
  {
   "cell_type": "code",
   "execution_count": 13,
   "id": "207862b6-7834-4e96-81e5-aebad97d5f21",
   "metadata": {},
   "outputs": [
    {
     "data": {
      "text/plain": [
       "('Black', 'Red', 'Blue')"
      ]
     },
     "execution_count": 13,
     "metadata": {},
     "output_type": "execute_result"
    }
   ],
   "source": [
    "colors = ('Black','Red','Blue')\n",
    "colors"
   ]
  },
  {
   "cell_type": "code",
   "execution_count": 16,
   "id": "2a7d5a75-4851-4d19-8fe0-603a91aa8051",
   "metadata": {},
   "outputs": [
    {
     "name": "stdout",
     "output_type": "stream",
     "text": [
      "Red is in list\n",
      "Green is not in list\n"
     ]
    }
   ],
   "source": [
    "if 'Red' in colors:\n",
    "    print(\"Red is in list\")\n",
    "else:\n",
    "    print(\"Red is not in list\")\n",
    "if 'Green' in colors:\n",
    "    print(\"Green is in list\")\n",
    "else:\n",
    "    print(\"Green is not in list\")"
   ]
  },
  {
   "cell_type": "markdown",
   "id": "d9e9998f-9b48-495d-8eaf-3b327d318886",
   "metadata": {},
   "source": [
    "### Question 9"
   ]
  },
  {
   "cell_type": "code",
   "execution_count": 18,
   "id": "eb6ac897-724f-46b3-b55e-62450eafc3b1",
   "metadata": {},
   "outputs": [
    {
     "data": {
      "text/plain": [
       "{'title': 'The Great Gatsby', 'author': 'F. Scott Fitzgerald', 'year': 1925}"
      ]
     },
     "execution_count": 18,
     "metadata": {},
     "output_type": "execute_result"
    }
   ],
   "source": [
    "book = {\n",
    "    'title' : 'The Great Gatsby',\n",
    "    'author' : 'F. Scott Fitzgerald',\n",
    "    'year' : 1925\n",
    "}\n",
    "book"
   ]
  },
  {
   "cell_type": "code",
   "execution_count": 20,
   "id": "84b95b7a-223c-4bba-903b-be221857420b",
   "metadata": {},
   "outputs": [
    {
     "data": {
      "text/plain": [
       "{'title': 'The Great Gatsby', 'author': 'F. Scott Fitzgerald', 'year': 2000}"
      ]
     },
     "execution_count": 20,
     "metadata": {},
     "output_type": "execute_result"
    }
   ],
   "source": [
    "book['year']=2000\n",
    "book"
   ]
  },
  {
   "cell_type": "markdown",
   "id": "50468331-b5d2-4aab-899a-77686880ec0e",
   "metadata": {},
   "source": [
    "### Question 10"
   ]
  },
  {
   "cell_type": "code",
   "execution_count": 22,
   "id": "4083e194-7cfd-4e84-8ccd-f7e086e7ad04",
   "metadata": {},
   "outputs": [
    {
     "data": {
      "text/plain": [
       "{'Apple': 'Red', 'Banana': 'Yellow', 'Orange': 'Orange'}"
      ]
     },
     "execution_count": 22,
     "metadata": {},
     "output_type": "execute_result"
    }
   ],
   "source": [
    "fruit = {\n",
    "    'Apple' : 'Red',\n",
    "    'Banana' : 'Yellow',\n",
    "    'Orange' : 'Orange',\n",
    "}\n",
    "fruit"
   ]
  },
  {
   "cell_type": "code",
   "execution_count": 24,
   "id": "13f20e28-ae8d-4c4e-b41a-242ed69769d3",
   "metadata": {},
   "outputs": [
    {
     "data": {
      "text/plain": [
       "{'Apple': 'Red', 'Banana': 'Yellow', 'Orange': 'Orange', 'Mango': 'Yellow'}"
      ]
     },
     "execution_count": 24,
     "metadata": {},
     "output_type": "execute_result"
    }
   ],
   "source": [
    "fruit['Mango'] = 'Yellow'\n",
    "fruit"
   ]
  },
  {
   "cell_type": "markdown",
   "id": "08fd79c5-fe5d-4cb8-9dd6-693a236c0203",
   "metadata": {},
   "source": [
    "### Question 11"
   ]
  },
  {
   "cell_type": "code",
   "execution_count": 26,
   "id": "465b2b89-edf0-465f-92dc-0465f33d4a71",
   "metadata": {},
   "outputs": [
    {
     "data": {
      "text/plain": [
       "{'Kathmandu': 100000, 'Bhaktapur': 80000, 'Lalitpur': 50000}"
      ]
     },
     "execution_count": 26,
     "metadata": {},
     "output_type": "execute_result"
    }
   ],
   "source": [
    "city = {\n",
    "    'Kathmandu' : 100000,\n",
    "    'Bhaktapur' : 80000,\n",
    "    'Lalitpur': 50000\n",
    "}\n",
    "city"
   ]
  },
  {
   "cell_type": "code",
   "execution_count": 27,
   "id": "88c0530f-e786-42e3-addb-4f901d41a3a4",
   "metadata": {},
   "outputs": [
    {
     "data": {
      "text/plain": [
       "{'Kathmandu': 100000, 'Bhaktapur': 80000}"
      ]
     },
     "execution_count": 27,
     "metadata": {},
     "output_type": "execute_result"
    }
   ],
   "source": [
    "city.pop('Lalitpur')\n",
    "city"
   ]
  },
  {
   "cell_type": "code",
   "execution_count": null,
   "id": "63ddab68-e37f-452a-aaac-8f36f3eea562",
   "metadata": {},
   "outputs": [],
   "source": []
  }
 ],
 "metadata": {
  "kernelspec": {
   "display_name": "Python 3 (ipykernel)",
   "language": "python",
   "name": "python3"
  },
  "language_info": {
   "codemirror_mode": {
    "name": "ipython",
    "version": 3
   },
   "file_extension": ".py",
   "mimetype": "text/x-python",
   "name": "python",
   "nbconvert_exporter": "python",
   "pygments_lexer": "ipython3",
   "version": "3.12.1"
  }
 },
 "nbformat": 4,
 "nbformat_minor": 5
}
